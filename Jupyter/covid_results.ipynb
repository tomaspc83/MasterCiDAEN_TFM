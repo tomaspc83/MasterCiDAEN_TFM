{
 "cells": [
  {
   "cell_type": "markdown",
   "metadata": {},
   "source": [
    "<img src=\"http://www.cidaen.es/assets/img/mCIDaeNnb.png\" alt=\"Logo CiDAEN\" align=\"right\">\n",
    "\n",
    "\n",
    "\n",
    "\n",
    "<br><br><br>\n",
    "<h2><font color=\"#00586D\" size=4>Trabajo Fin de Máster</font></h2>\n",
    "\n",
    "\n",
    "\n",
    "<h1><font color=\"#00586D\" size=5>Análisis del sentimiento en redes sociales</font></h1>\n",
    "<h2>COVID-19</h2>\n",
    "\n",
    "<br><br><br>\n",
    "<div style=\"text-align: right\">\n",
    "<font color=\"#00586D\" size=3>Tomás Pérez Campayo</font><br>\n",
    "<font color=\"#00586D\" size=3>Máster en Ciencia de Datos e Ingeniería de Datos en la Nube</font><br>\n",
    "<font color=\"#00586D\" size=3>Universidad de Castilla-La Mancha</font>\n",
    "\n",
    "</div>"
   ]
  },
  {
   "cell_type": "markdown",
   "metadata": {},
   "source": [
    "En esta libreta se presentan los resultados obtenidos del procesamiento de la información obtenida de la red social Tweeter asi como los datos descargados del Centro Nacional de Epidemiología.\n",
    "\n",
    "Una vez analizados por separado, se intenta ver si hay algún tipo de correlación entre ambos sets de datos."
   ]
  },
  {
   "cell_type": "markdown",
   "metadata": {},
   "source": [
    "####  <font color=\"#00586D\">Datos obtenidos de https://cnecovid.isciii.es/covid19/#documentaci%C3%B3n-y-datos</font>"
   ]
  },
  {
   "cell_type": "code",
   "execution_count": 1,
   "metadata": {},
   "outputs": [],
   "source": [
    "import pandas as pd\n",
    "import matplotlib.pyplot as plt\n",
    "import boto3\n",
    "\n",
    "df = pd.read_csv(\"./Data/casos_hosp_uci_def_sexo_edad_provres.csv\")"
   ]
  },
  {
   "cell_type": "markdown",
   "metadata": {},
   "source": [
    "Aquí vemos la estructura del dataset. Los datos vienen separados por **Fecha / Provincia / Sexo / Grupo de edad**.\n",
    "\n",
    "Para nuestro análisis agruparemos únicamente por fecha para obtener totales (número de casos, número hospitalizados, número de ingresados UCI y número de defunciones) por día."
   ]
  },
  {
   "cell_type": "code",
   "execution_count": 2,
   "metadata": {
    "scrolled": true
   },
   "outputs": [
    {
     "data": {
      "text/html": [
       "<div>\n",
       "<style scoped>\n",
       "    .dataframe tbody tr th:only-of-type {\n",
       "        vertical-align: middle;\n",
       "    }\n",
       "\n",
       "    .dataframe tbody tr th {\n",
       "        vertical-align: top;\n",
       "    }\n",
       "\n",
       "    .dataframe thead th {\n",
       "        text-align: right;\n",
       "    }\n",
       "</style>\n",
       "<table border=\"1\" class=\"dataframe\">\n",
       "  <thead>\n",
       "    <tr style=\"text-align: right;\">\n",
       "      <th></th>\n",
       "      <th>provincia_iso</th>\n",
       "      <th>sexo</th>\n",
       "      <th>grupo_edad</th>\n",
       "      <th>fecha</th>\n",
       "      <th>num_casos</th>\n",
       "      <th>num_hosp</th>\n",
       "      <th>num_uci</th>\n",
       "      <th>num_def</th>\n",
       "    </tr>\n",
       "  </thead>\n",
       "  <tbody>\n",
       "    <tr>\n",
       "      <th>0</th>\n",
       "      <td>A</td>\n",
       "      <td>H</td>\n",
       "      <td>0-9</td>\n",
       "      <td>2020-01-01</td>\n",
       "      <td>0</td>\n",
       "      <td>0</td>\n",
       "      <td>0</td>\n",
       "      <td>0</td>\n",
       "    </tr>\n",
       "    <tr>\n",
       "      <th>1</th>\n",
       "      <td>A</td>\n",
       "      <td>H</td>\n",
       "      <td>10-19</td>\n",
       "      <td>2020-01-01</td>\n",
       "      <td>0</td>\n",
       "      <td>0</td>\n",
       "      <td>0</td>\n",
       "      <td>0</td>\n",
       "    </tr>\n",
       "    <tr>\n",
       "      <th>2</th>\n",
       "      <td>A</td>\n",
       "      <td>H</td>\n",
       "      <td>20-29</td>\n",
       "      <td>2020-01-01</td>\n",
       "      <td>0</td>\n",
       "      <td>0</td>\n",
       "      <td>0</td>\n",
       "      <td>0</td>\n",
       "    </tr>\n",
       "    <tr>\n",
       "      <th>3</th>\n",
       "      <td>A</td>\n",
       "      <td>H</td>\n",
       "      <td>30-39</td>\n",
       "      <td>2020-01-01</td>\n",
       "      <td>0</td>\n",
       "      <td>0</td>\n",
       "      <td>0</td>\n",
       "      <td>0</td>\n",
       "    </tr>\n",
       "    <tr>\n",
       "      <th>4</th>\n",
       "      <td>A</td>\n",
       "      <td>H</td>\n",
       "      <td>40-49</td>\n",
       "      <td>2020-01-01</td>\n",
       "      <td>0</td>\n",
       "      <td>0</td>\n",
       "      <td>0</td>\n",
       "      <td>0</td>\n",
       "    </tr>\n",
       "  </tbody>\n",
       "</table>\n",
       "</div>"
      ],
      "text/plain": [
       "  provincia_iso sexo grupo_edad       fecha  num_casos  num_hosp  num_uci  \\\n",
       "0             A    H        0-9  2020-01-01          0         0        0   \n",
       "1             A    H      10-19  2020-01-01          0         0        0   \n",
       "2             A    H      20-29  2020-01-01          0         0        0   \n",
       "3             A    H      30-39  2020-01-01          0         0        0   \n",
       "4             A    H      40-49  2020-01-01          0         0        0   \n",
       "\n",
       "   num_def  \n",
       "0        0  \n",
       "1        0  \n",
       "2        0  \n",
       "3        0  \n",
       "4        0  "
      ]
     },
     "execution_count": 2,
     "metadata": {},
     "output_type": "execute_result"
    }
   ],
   "source": [
    "df.head()"
   ]
  },
  {
   "cell_type": "markdown",
   "metadata": {},
   "source": [
    "Nos quedamos únicamente con las columnas que nos hacen falta (fecha, num_casos, num_hosp, num_uci y num_def). Por otro lado, si comprobamos el tipo de dato para cada columna, nos damos cuenta que el campo fecha lo reconoce como un string en lugar de Datetime."
   ]
  },
  {
   "cell_type": "code",
   "execution_count": 3,
   "metadata": {
    "scrolled": true
   },
   "outputs": [
    {
     "name": "stdout",
     "output_type": "stream",
     "text": [
      "<class 'pandas.core.frame.DataFrame'>\n",
      "RangeIndex: 793410 entries, 0 to 793409\n",
      "Data columns (total 5 columns):\n",
      " #   Column     Non-Null Count   Dtype \n",
      "---  ------     --------------   ----- \n",
      " 0   fecha      793410 non-null  object\n",
      " 1   num_casos  793410 non-null  int64 \n",
      " 2   num_hosp   793410 non-null  int64 \n",
      " 3   num_uci    793410 non-null  int64 \n",
      " 4   num_def    793410 non-null  int64 \n",
      "dtypes: int64(4), object(1)\n",
      "memory usage: 30.3+ MB\n"
     ]
    }
   ],
   "source": [
    "df_covid = df[['fecha','num_casos', 'num_hosp', 'num_uci', 'num_def']]\n",
    "df_covid.info()"
   ]
  },
  {
   "cell_type": "markdown",
   "metadata": {},
   "source": [
    "Ahora transformamos el campo fecha a objetos Datetime "
   ]
  },
  {
   "cell_type": "code",
   "execution_count": 4,
   "metadata": {},
   "outputs": [
    {
     "name": "stderr",
     "output_type": "stream",
     "text": [
      "C:\\ProgramData\\Anaconda3\\lib\\site-packages\\ipykernel_launcher.py:1: SettingWithCopyWarning: \n",
      "A value is trying to be set on a copy of a slice from a DataFrame.\n",
      "Try using .loc[row_indexer,col_indexer] = value instead\n",
      "\n",
      "See the caveats in the documentation: https://pandas.pydata.org/pandas-docs/stable/user_guide/indexing.html#returning-a-view-versus-a-copy\n",
      "  \"\"\"Entry point for launching an IPython kernel.\n"
     ]
    }
   ],
   "source": [
    "df_covid['fecha'] = pd.to_datetime(df_covid['fecha'], format='%Y/%m/%d')"
   ]
  },
  {
   "cell_type": "code",
   "execution_count": 5,
   "metadata": {},
   "outputs": [
    {
     "data": {
      "text/html": [
       "<div>\n",
       "<style scoped>\n",
       "    .dataframe tbody tr th:only-of-type {\n",
       "        vertical-align: middle;\n",
       "    }\n",
       "\n",
       "    .dataframe tbody tr th {\n",
       "        vertical-align: top;\n",
       "    }\n",
       "\n",
       "    .dataframe thead th {\n",
       "        text-align: right;\n",
       "    }\n",
       "</style>\n",
       "<table border=\"1\" class=\"dataframe\">\n",
       "  <thead>\n",
       "    <tr style=\"text-align: right;\">\n",
       "      <th></th>\n",
       "      <th>fecha</th>\n",
       "      <th>num_casos</th>\n",
       "      <th>num_hosp</th>\n",
       "      <th>num_uci</th>\n",
       "      <th>num_def</th>\n",
       "    </tr>\n",
       "  </thead>\n",
       "  <tbody>\n",
       "    <tr>\n",
       "      <th>0</th>\n",
       "      <td>2020-01-01</td>\n",
       "      <td>0</td>\n",
       "      <td>0</td>\n",
       "      <td>0</td>\n",
       "      <td>0</td>\n",
       "    </tr>\n",
       "    <tr>\n",
       "      <th>1</th>\n",
       "      <td>2020-01-01</td>\n",
       "      <td>0</td>\n",
       "      <td>0</td>\n",
       "      <td>0</td>\n",
       "      <td>0</td>\n",
       "    </tr>\n",
       "    <tr>\n",
       "      <th>2</th>\n",
       "      <td>2020-01-01</td>\n",
       "      <td>0</td>\n",
       "      <td>0</td>\n",
       "      <td>0</td>\n",
       "      <td>0</td>\n",
       "    </tr>\n",
       "    <tr>\n",
       "      <th>3</th>\n",
       "      <td>2020-01-01</td>\n",
       "      <td>0</td>\n",
       "      <td>0</td>\n",
       "      <td>0</td>\n",
       "      <td>0</td>\n",
       "    </tr>\n",
       "    <tr>\n",
       "      <th>4</th>\n",
       "      <td>2020-01-01</td>\n",
       "      <td>0</td>\n",
       "      <td>0</td>\n",
       "      <td>0</td>\n",
       "      <td>0</td>\n",
       "    </tr>\n",
       "    <tr>\n",
       "      <th>...</th>\n",
       "      <td>...</td>\n",
       "      <td>...</td>\n",
       "      <td>...</td>\n",
       "      <td>...</td>\n",
       "      <td>...</td>\n",
       "    </tr>\n",
       "    <tr>\n",
       "      <th>793405</th>\n",
       "      <td>2021-05-13</td>\n",
       "      <td>0</td>\n",
       "      <td>0</td>\n",
       "      <td>0</td>\n",
       "      <td>0</td>\n",
       "    </tr>\n",
       "    <tr>\n",
       "      <th>793406</th>\n",
       "      <td>2021-05-13</td>\n",
       "      <td>0</td>\n",
       "      <td>0</td>\n",
       "      <td>0</td>\n",
       "      <td>0</td>\n",
       "    </tr>\n",
       "    <tr>\n",
       "      <th>793407</th>\n",
       "      <td>2021-05-13</td>\n",
       "      <td>0</td>\n",
       "      <td>0</td>\n",
       "      <td>0</td>\n",
       "      <td>0</td>\n",
       "    </tr>\n",
       "    <tr>\n",
       "      <th>793408</th>\n",
       "      <td>2021-05-13</td>\n",
       "      <td>0</td>\n",
       "      <td>0</td>\n",
       "      <td>0</td>\n",
       "      <td>0</td>\n",
       "    </tr>\n",
       "    <tr>\n",
       "      <th>793409</th>\n",
       "      <td>2021-05-13</td>\n",
       "      <td>0</td>\n",
       "      <td>0</td>\n",
       "      <td>0</td>\n",
       "      <td>0</td>\n",
       "    </tr>\n",
       "  </tbody>\n",
       "</table>\n",
       "<p>793410 rows × 5 columns</p>\n",
       "</div>"
      ],
      "text/plain": [
       "            fecha  num_casos  num_hosp  num_uci  num_def\n",
       "0      2020-01-01          0         0        0        0\n",
       "1      2020-01-01          0         0        0        0\n",
       "2      2020-01-01          0         0        0        0\n",
       "3      2020-01-01          0         0        0        0\n",
       "4      2020-01-01          0         0        0        0\n",
       "...           ...        ...       ...      ...      ...\n",
       "793405 2021-05-13          0         0        0        0\n",
       "793406 2021-05-13          0         0        0        0\n",
       "793407 2021-05-13          0         0        0        0\n",
       "793408 2021-05-13          0         0        0        0\n",
       "793409 2021-05-13          0         0        0        0\n",
       "\n",
       "[793410 rows x 5 columns]"
      ]
     },
     "execution_count": 5,
     "metadata": {},
     "output_type": "execute_result"
    }
   ],
   "source": [
    "df_covid"
   ]
  },
  {
   "cell_type": "markdown",
   "metadata": {},
   "source": [
    "El siguiente paso es filtrar por la fecha a partir de la cual disponemos de datos de análisis del sentimiento en AWS para luego realizar una comparativa."
   ]
  },
  {
   "cell_type": "code",
   "execution_count": 6,
   "metadata": {
    "scrolled": false
   },
   "outputs": [
    {
     "data": {
      "text/html": [
       "<div>\n",
       "<style scoped>\n",
       "    .dataframe tbody tr th:only-of-type {\n",
       "        vertical-align: middle;\n",
       "    }\n",
       "\n",
       "    .dataframe tbody tr th {\n",
       "        vertical-align: top;\n",
       "    }\n",
       "\n",
       "    .dataframe thead th {\n",
       "        text-align: right;\n",
       "    }\n",
       "</style>\n",
       "<table border=\"1\" class=\"dataframe\">\n",
       "  <thead>\n",
       "    <tr style=\"text-align: right;\">\n",
       "      <th></th>\n",
       "      <th>fecha</th>\n",
       "      <th>num_casos</th>\n",
       "      <th>num_hosp</th>\n",
       "      <th>num_uci</th>\n",
       "      <th>num_def</th>\n",
       "    </tr>\n",
       "  </thead>\n",
       "  <tbody>\n",
       "    <tr>\n",
       "      <th>698010</th>\n",
       "      <td>2021-03-15</td>\n",
       "      <td>0</td>\n",
       "      <td>0</td>\n",
       "      <td>0</td>\n",
       "      <td>0</td>\n",
       "    </tr>\n",
       "    <tr>\n",
       "      <th>698011</th>\n",
       "      <td>2021-03-15</td>\n",
       "      <td>2</td>\n",
       "      <td>1</td>\n",
       "      <td>0</td>\n",
       "      <td>0</td>\n",
       "    </tr>\n",
       "    <tr>\n",
       "      <th>698012</th>\n",
       "      <td>2021-03-15</td>\n",
       "      <td>0</td>\n",
       "      <td>0</td>\n",
       "      <td>0</td>\n",
       "      <td>0</td>\n",
       "    </tr>\n",
       "    <tr>\n",
       "      <th>698013</th>\n",
       "      <td>2021-03-15</td>\n",
       "      <td>3</td>\n",
       "      <td>0</td>\n",
       "      <td>0</td>\n",
       "      <td>0</td>\n",
       "    </tr>\n",
       "    <tr>\n",
       "      <th>698014</th>\n",
       "      <td>2021-03-15</td>\n",
       "      <td>1</td>\n",
       "      <td>0</td>\n",
       "      <td>0</td>\n",
       "      <td>0</td>\n",
       "    </tr>\n",
       "  </tbody>\n",
       "</table>\n",
       "</div>"
      ],
      "text/plain": [
       "            fecha  num_casos  num_hosp  num_uci  num_def\n",
       "698010 2021-03-15          0         0        0        0\n",
       "698011 2021-03-15          2         1        0        0\n",
       "698012 2021-03-15          0         0        0        0\n",
       "698013 2021-03-15          3         0        0        0\n",
       "698014 2021-03-15          1         0        0        0"
      ]
     },
     "execution_count": 6,
     "metadata": {},
     "output_type": "execute_result"
    }
   ],
   "source": [
    "df_covid = df_covid[df_covid['fecha'] >= '2021-03-15']\n",
    "df_covid.head()"
   ]
  },
  {
   "cell_type": "markdown",
   "metadata": {},
   "source": [
    "Agrupamos y sumamos totales por fecha"
   ]
  },
  {
   "cell_type": "code",
   "execution_count": 7,
   "metadata": {},
   "outputs": [
    {
     "data": {
      "text/html": [
       "<div>\n",
       "<style scoped>\n",
       "    .dataframe tbody tr th:only-of-type {\n",
       "        vertical-align: middle;\n",
       "    }\n",
       "\n",
       "    .dataframe tbody tr th {\n",
       "        vertical-align: top;\n",
       "    }\n",
       "\n",
       "    .dataframe thead th {\n",
       "        text-align: right;\n",
       "    }\n",
       "</style>\n",
       "<table border=\"1\" class=\"dataframe\">\n",
       "  <thead>\n",
       "    <tr style=\"text-align: right;\">\n",
       "      <th></th>\n",
       "      <th>num_casos</th>\n",
       "      <th>num_hosp</th>\n",
       "      <th>num_uci</th>\n",
       "      <th>num_def</th>\n",
       "    </tr>\n",
       "    <tr>\n",
       "      <th>fecha</th>\n",
       "      <th></th>\n",
       "      <th></th>\n",
       "      <th></th>\n",
       "      <th></th>\n",
       "    </tr>\n",
       "  </thead>\n",
       "  <tbody>\n",
       "    <tr>\n",
       "      <th>2021-03-15</th>\n",
       "      <td>5422</td>\n",
       "      <td>445</td>\n",
       "      <td>52</td>\n",
       "      <td>93</td>\n",
       "    </tr>\n",
       "    <tr>\n",
       "      <th>2021-03-16</th>\n",
       "      <td>5984</td>\n",
       "      <td>426</td>\n",
       "      <td>61</td>\n",
       "      <td>102</td>\n",
       "    </tr>\n",
       "    <tr>\n",
       "      <th>2021-03-17</th>\n",
       "      <td>5704</td>\n",
       "      <td>465</td>\n",
       "      <td>57</td>\n",
       "      <td>87</td>\n",
       "    </tr>\n",
       "    <tr>\n",
       "      <th>2021-03-18</th>\n",
       "      <td>6274</td>\n",
       "      <td>424</td>\n",
       "      <td>53</td>\n",
       "      <td>65</td>\n",
       "    </tr>\n",
       "    <tr>\n",
       "      <th>2021-03-19</th>\n",
       "      <td>4575</td>\n",
       "      <td>389</td>\n",
       "      <td>48</td>\n",
       "      <td>61</td>\n",
       "    </tr>\n",
       "  </tbody>\n",
       "</table>\n",
       "</div>"
      ],
      "text/plain": [
       "            num_casos  num_hosp  num_uci  num_def\n",
       "fecha                                            \n",
       "2021-03-15       5422       445       52       93\n",
       "2021-03-16       5984       426       61      102\n",
       "2021-03-17       5704       465       57       87\n",
       "2021-03-18       6274       424       53       65\n",
       "2021-03-19       4575       389       48       61"
      ]
     },
     "execution_count": 7,
     "metadata": {},
     "output_type": "execute_result"
    }
   ],
   "source": [
    "df_covid_grouped = df_covid.groupby('fecha').sum()\n",
    "df_covid_grouped.head()"
   ]
  },
  {
   "cell_type": "code",
   "execution_count": 8,
   "metadata": {
    "scrolled": true
   },
   "outputs": [
    {
     "data": {
      "image/png": "[encoded data removed]",
      "text/plain": [
       "<Figure size 1440x360 with 1 Axes>"
      ]
     },
     "metadata": {
      "needs_background": "light"
     },
     "output_type": "display_data"
    }
   ],
   "source": [
    "plt.figure(figsize=(20,5))\n",
    "\n",
    "plt.xticks(rotation=90)\n",
    "\n",
    "#plt.plot(df_covid_grouped.index, df_covid_grouped['num_casos'], label = \"Casos\")\n",
    "plt.plot(df_covid_grouped.index, df_covid_grouped['num_hosp'], label = \"Hospitalizados\")\n",
    "plt.plot(df_covid_grouped.index, df_covid_grouped['num_uci'], label = \"Ingresos UCI\")\n",
    "plt.plot(df_covid_grouped.index, df_covid_grouped['num_def'], label = \"Defunciones\")\n",
    "\n",
    "plt.xlabel('Fecha')\n",
    "plt.ylabel('Recuento')\n",
    "\n",
    "plt.title('Datos COVID')\n",
    "# show a legend on the plot\n",
    "plt.legend()\n",
    "# Display a figure.\n",
    "plt.show()"
   ]
  },
  {
   "cell_type": "markdown",
   "metadata": {},
   "source": [
    "####  <font color=\"#00586D\">Datos obtenidos de la red social Tweeter</font>"
   ]
  },
  {
   "cell_type": "markdown",
   "metadata": {},
   "source": [
    "El primer paso es establecer conexión con el servicio AWS a través de la librería boto3.\n",
    "\n",
    "Creamos el objeto cliente para dynamodb e instanciamos las tablas que vamos a consultar:\n",
    "\n",
    "    - Tabla tweets: [tweet_date, tweet_id, tweet_text, polarity, sentiment]\n",
    "    - Tabla tweets_statistics: [TweetDate, positive, negative, mixed, neutral]"
   ]
  },
  {
   "cell_type": "code",
   "execution_count": 9,
   "metadata": {},
   "outputs": [],
   "source": [
    "#Servicio DynamoDb\n",
    "dynamodb_client = boto3.resource('dynamodb', region_name='us-east-1')\n",
    "tweets_table = dynamodb_client.Table('tweets')\n",
    "tweets_statistics_table = dynamodb_client.Table('tweets_statistics')"
   ]
  },
  {
   "cell_type": "markdown",
   "metadata": {},
   "source": [
    "Realizamos un scan de la tabla `tweets` para descargar todos los datos de la tabla"
   ]
  },
  {
   "cell_type": "code",
   "execution_count": 10,
   "metadata": {},
   "outputs": [
    {
     "data": {
      "text/html": [
       "<div>\n",
       "<style scoped>\n",
       "    .dataframe tbody tr th:only-of-type {\n",
       "        vertical-align: middle;\n",
       "    }\n",
       "\n",
       "    .dataframe tbody tr th {\n",
       "        vertical-align: top;\n",
       "    }\n",
       "\n",
       "    .dataframe thead th {\n",
       "        text-align: right;\n",
       "    }\n",
       "</style>\n",
       "<table border=\"1\" class=\"dataframe\">\n",
       "  <thead>\n",
       "    <tr style=\"text-align: right;\">\n",
       "      <th></th>\n",
       "      <th>polarity</th>\n",
       "      <th>tweet_id</th>\n",
       "      <th>sentiment</th>\n",
       "      <th>tweet_date</th>\n",
       "      <th>tweet_text</th>\n",
       "    </tr>\n",
       "  </thead>\n",
       "  <tbody>\n",
       "    <tr>\n",
       "      <th>0</th>\n",
       "      <td>-0.5779223185963928699493408203125</td>\n",
       "      <td>137768230066259968</td>\n",
       "      <td>NEGATIVE</td>\n",
       "      <td>01/04/2021</td>\n",
       "      <td>ltimos 130 dasCasos covid sin sancin ni comuni...</td>\n",
       "    </tr>\n",
       "    <tr>\n",
       "      <th>1</th>\n",
       "      <td>-0.3455162681639194488525390625</td>\n",
       "      <td>137768230082623078</td>\n",
       "      <td>NEUTRAL</td>\n",
       "      <td>01/04/2021</td>\n",
       "      <td>Colombia reporta 8646 nuevos casos de Covid19 ...</td>\n",
       "    </tr>\n",
       "    <tr>\n",
       "      <th>2</th>\n",
       "      <td>0.02471891604363918304443359375</td>\n",
       "      <td>137768230236552806</td>\n",
       "      <td>NEUTRAL</td>\n",
       "      <td>01/04/2021</td>\n",
       "      <td>El 591 de la poblacin espaola ha recibido la v...</td>\n",
       "    </tr>\n",
       "    <tr>\n",
       "      <th>3</th>\n",
       "      <td>-0.0156670920550823211669921875</td>\n",
       "      <td>137768230242415411</td>\n",
       "      <td>NEUTRAL</td>\n",
       "      <td>01/04/2021</td>\n",
       "      <td>LTIMAHORA Cardenal Baltazar Porras anunci este...</td>\n",
       "    </tr>\n",
       "    <tr>\n",
       "      <th>4</th>\n",
       "      <td>-0.02831505867652595043182373046875</td>\n",
       "      <td>137768230247034061</td>\n",
       "      <td>NEUTRAL</td>\n",
       "      <td>01/04/2021</td>\n",
       "      <td>Magallanes hoy reporta 28 casos nuevos de Covi...</td>\n",
       "    </tr>\n",
       "    <tr>\n",
       "      <th>...</th>\n",
       "      <td>...</td>\n",
       "      <td>...</td>\n",
       "      <td>...</td>\n",
       "      <td>...</td>\n",
       "      <td>...</td>\n",
       "    </tr>\n",
       "    <tr>\n",
       "      <th>3913</th>\n",
       "      <td>0.0426206330885179340839385986328125</td>\n",
       "      <td>137297169815745333</td>\n",
       "      <td>NEUTRAL</td>\n",
       "      <td>19/03/2021</td>\n",
       "      <td>Laboratorio para covid19 en Maiqueta se cre en...</td>\n",
       "    </tr>\n",
       "    <tr>\n",
       "      <th>3914</th>\n",
       "      <td>-0.251605871133506298065185546875</td>\n",
       "      <td>137297169850553549</td>\n",
       "      <td>NEUTRAL</td>\n",
       "      <td>19/03/2021</td>\n",
       "      <td>Ms precaucin En el reporte de las ltimas 24 ho...</td>\n",
       "    </tr>\n",
       "    <tr>\n",
       "      <th>3915</th>\n",
       "      <td>-0.02550903148949146270751953125</td>\n",
       "      <td>137297169913047040</td>\n",
       "      <td>NEUTRAL</td>\n",
       "      <td>19/03/2021</td>\n",
       "      <td>Estos es lo que ha revelado un reciente estudio</td>\n",
       "    </tr>\n",
       "    <tr>\n",
       "      <th>3916</th>\n",
       "      <td>-0.02550903148949146270751953125</td>\n",
       "      <td>137297170554358170</td>\n",
       "      <td>NEUTRAL</td>\n",
       "      <td>19/03/2021</td>\n",
       "      <td>Estos es lo que ha revelado un reciente estudio</td>\n",
       "    </tr>\n",
       "    <tr>\n",
       "      <th>3917</th>\n",
       "      <td>0.0634224885143339633941650390625</td>\n",
       "      <td>137297170690673869</td>\n",
       "      <td>NEUTRAL</td>\n",
       "      <td>19/03/2021</td>\n",
       "      <td>El esperado informe sali ayer Lo comento dirig...</td>\n",
       "    </tr>\n",
       "  </tbody>\n",
       "</table>\n",
       "<p>3918 rows × 5 columns</p>\n",
       "</div>"
      ],
      "text/plain": [
       "                                  polarity            tweet_id sentiment  \\\n",
       "0       -0.5779223185963928699493408203125  137768230066259968  NEGATIVE   \n",
       "1          -0.3455162681639194488525390625  137768230082623078   NEUTRAL   \n",
       "2          0.02471891604363918304443359375  137768230236552806   NEUTRAL   \n",
       "3          -0.0156670920550823211669921875  137768230242415411   NEUTRAL   \n",
       "4      -0.02831505867652595043182373046875  137768230247034061   NEUTRAL   \n",
       "...                                    ...                 ...       ...   \n",
       "3913  0.0426206330885179340839385986328125  137297169815745333   NEUTRAL   \n",
       "3914     -0.251605871133506298065185546875  137297169850553549   NEUTRAL   \n",
       "3915      -0.02550903148949146270751953125  137297169913047040   NEUTRAL   \n",
       "3916      -0.02550903148949146270751953125  137297170554358170   NEUTRAL   \n",
       "3917     0.0634224885143339633941650390625  137297170690673869   NEUTRAL   \n",
       "\n",
       "      tweet_date                                         tweet_text  \n",
       "0     01/04/2021  ltimos 130 dasCasos covid sin sancin ni comuni...  \n",
       "1     01/04/2021  Colombia reporta 8646 nuevos casos de Covid19 ...  \n",
       "2     01/04/2021  El 591 de la poblacin espaola ha recibido la v...  \n",
       "3     01/04/2021  LTIMAHORA Cardenal Baltazar Porras anunci este...  \n",
       "4     01/04/2021  Magallanes hoy reporta 28 casos nuevos de Covi...  \n",
       "...          ...                                                ...  \n",
       "3913  19/03/2021  Laboratorio para covid19 en Maiqueta se cre en...  \n",
       "3914  19/03/2021  Ms precaucin En el reporte de las ltimas 24 ho...  \n",
       "3915  19/03/2021    Estos es lo que ha revelado un reciente estudio  \n",
       "3916  19/03/2021    Estos es lo que ha revelado un reciente estudio  \n",
       "3917  19/03/2021  El esperado informe sali ayer Lo comento dirig...  \n",
       "\n",
       "[3918 rows x 5 columns]"
      ]
     },
     "execution_count": 10,
     "metadata": {},
     "output_type": "execute_result"
    }
   ],
   "source": [
    "data = tweets_table.scan()\n",
    "df_tweets = pd.DataFrame.from_dict(data['Items'])\n",
    "df_tweets"
   ]
  },
  {
   "cell_type": "markdown",
   "metadata": {},
   "source": [
    "Comentando / descomentando esta línea de código podemos sacar las gráficas de todo el set de datos (positivos, negativos, mixtos, neutros) o únicamente teniendo en cuenta los tweets clasificados como positivos y negativos"
   ]
  },
  {
   "cell_type": "code",
   "execution_count": 11,
   "metadata": {},
   "outputs": [],
   "source": [
    "# Solo teniendo en cuenta los clasificados como positivos y negativos (dejamos fuera NEUTROS y MIXTOS)\n",
    "#df_tweets = df_tweets[(df_tweets['sentiment'] == 'NEGATIVE') | (df_tweets['sentiment'] == 'POSITIVE')]"
   ]
  },
  {
   "cell_type": "code",
   "execution_count": 12,
   "metadata": {
    "scrolled": true
   },
   "outputs": [
    {
     "name": "stdout",
     "output_type": "stream",
     "text": [
      "<class 'pandas.core.frame.DataFrame'>\n",
      "RangeIndex: 3918 entries, 0 to 3917\n",
      "Data columns (total 5 columns):\n",
      " #   Column      Non-Null Count  Dtype \n",
      "---  ------      --------------  ----- \n",
      " 0   polarity    3918 non-null   object\n",
      " 1   tweet_id    3918 non-null   object\n",
      " 2   sentiment   3918 non-null   object\n",
      " 3   tweet_date  3918 non-null   object\n",
      " 4   tweet_text  3918 non-null   object\n",
      "dtypes: object(5)\n",
      "memory usage: 153.2+ KB\n"
     ]
    }
   ],
   "source": [
    "df_tweets.info()"
   ]
  },
  {
   "cell_type": "markdown",
   "metadata": {},
   "source": [
    "Como podemos observar en la celda de arriba, la polaridad la reconoce como un string por lo que para poder opear con ella la transformamos en un float. Igualmente, la columna tweet_date la transformaremos en un objeto datetime ya que también nos viene como un string."
   ]
  },
  {
   "cell_type": "code",
   "execution_count": 13,
   "metadata": {
    "scrolled": true
   },
   "outputs": [],
   "source": [
    "df_tweets['polarity'] = df_tweets['polarity'].astype(float)"
   ]
  },
  {
   "cell_type": "code",
   "execution_count": 14,
   "metadata": {},
   "outputs": [],
   "source": [
    "df_tweets['tweet_date'] = pd.to_datetime(df_tweets['tweet_date'], format='%d/%m/%Y')"
   ]
  },
  {
   "cell_type": "code",
   "execution_count": 15,
   "metadata": {},
   "outputs": [
    {
     "data": {
      "text/html": [
       "<div>\n",
       "<style scoped>\n",
       "    .dataframe tbody tr th:only-of-type {\n",
       "        vertical-align: middle;\n",
       "    }\n",
       "\n",
       "    .dataframe tbody tr th {\n",
       "        vertical-align: top;\n",
       "    }\n",
       "\n",
       "    .dataframe thead th {\n",
       "        text-align: right;\n",
       "    }\n",
       "</style>\n",
       "<table border=\"1\" class=\"dataframe\">\n",
       "  <thead>\n",
       "    <tr style=\"text-align: right;\">\n",
       "      <th></th>\n",
       "      <th>polarity</th>\n",
       "      <th>tweet_id</th>\n",
       "      <th>sentiment</th>\n",
       "      <th>tweet_date</th>\n",
       "      <th>tweet_text</th>\n",
       "    </tr>\n",
       "  </thead>\n",
       "  <tbody>\n",
       "    <tr>\n",
       "      <th>0</th>\n",
       "      <td>-0.577922</td>\n",
       "      <td>137768230066259968</td>\n",
       "      <td>NEGATIVE</td>\n",
       "      <td>2021-04-01</td>\n",
       "      <td>ltimos 130 dasCasos covid sin sancin ni comuni...</td>\n",
       "    </tr>\n",
       "    <tr>\n",
       "      <th>1</th>\n",
       "      <td>-0.345516</td>\n",
       "      <td>137768230082623078</td>\n",
       "      <td>NEUTRAL</td>\n",
       "      <td>2021-04-01</td>\n",
       "      <td>Colombia reporta 8646 nuevos casos de Covid19 ...</td>\n",
       "    </tr>\n",
       "    <tr>\n",
       "      <th>2</th>\n",
       "      <td>0.024719</td>\n",
       "      <td>137768230236552806</td>\n",
       "      <td>NEUTRAL</td>\n",
       "      <td>2021-04-01</td>\n",
       "      <td>El 591 de la poblacin espaola ha recibido la v...</td>\n",
       "    </tr>\n",
       "    <tr>\n",
       "      <th>3</th>\n",
       "      <td>-0.015667</td>\n",
       "      <td>137768230242415411</td>\n",
       "      <td>NEUTRAL</td>\n",
       "      <td>2021-04-01</td>\n",
       "      <td>LTIMAHORA Cardenal Baltazar Porras anunci este...</td>\n",
       "    </tr>\n",
       "    <tr>\n",
       "      <th>4</th>\n",
       "      <td>-0.028315</td>\n",
       "      <td>137768230247034061</td>\n",
       "      <td>NEUTRAL</td>\n",
       "      <td>2021-04-01</td>\n",
       "      <td>Magallanes hoy reporta 28 casos nuevos de Covi...</td>\n",
       "    </tr>\n",
       "    <tr>\n",
       "      <th>...</th>\n",
       "      <td>...</td>\n",
       "      <td>...</td>\n",
       "      <td>...</td>\n",
       "      <td>...</td>\n",
       "      <td>...</td>\n",
       "    </tr>\n",
       "    <tr>\n",
       "      <th>3913</th>\n",
       "      <td>0.042621</td>\n",
       "      <td>137297169815745333</td>\n",
       "      <td>NEUTRAL</td>\n",
       "      <td>2021-03-19</td>\n",
       "      <td>Laboratorio para covid19 en Maiqueta se cre en...</td>\n",
       "    </tr>\n",
       "    <tr>\n",
       "      <th>3914</th>\n",
       "      <td>-0.251606</td>\n",
       "      <td>137297169850553549</td>\n",
       "      <td>NEUTRAL</td>\n",
       "      <td>2021-03-19</td>\n",
       "      <td>Ms precaucin En el reporte de las ltimas 24 ho...</td>\n",
       "    </tr>\n",
       "    <tr>\n",
       "      <th>3915</th>\n",
       "      <td>-0.025509</td>\n",
       "      <td>137297169913047040</td>\n",
       "      <td>NEUTRAL</td>\n",
       "      <td>2021-03-19</td>\n",
       "      <td>Estos es lo que ha revelado un reciente estudio</td>\n",
       "    </tr>\n",
       "    <tr>\n",
       "      <th>3916</th>\n",
       "      <td>-0.025509</td>\n",
       "      <td>137297170554358170</td>\n",
       "      <td>NEUTRAL</td>\n",
       "      <td>2021-03-19</td>\n",
       "      <td>Estos es lo que ha revelado un reciente estudio</td>\n",
       "    </tr>\n",
       "    <tr>\n",
       "      <th>3917</th>\n",
       "      <td>0.063422</td>\n",
       "      <td>137297170690673869</td>\n",
       "      <td>NEUTRAL</td>\n",
       "      <td>2021-03-19</td>\n",
       "      <td>El esperado informe sali ayer Lo comento dirig...</td>\n",
       "    </tr>\n",
       "  </tbody>\n",
       "</table>\n",
       "<p>3918 rows × 5 columns</p>\n",
       "</div>"
      ],
      "text/plain": [
       "      polarity            tweet_id sentiment tweet_date  \\\n",
       "0    -0.577922  137768230066259968  NEGATIVE 2021-04-01   \n",
       "1    -0.345516  137768230082623078   NEUTRAL 2021-04-01   \n",
       "2     0.024719  137768230236552806   NEUTRAL 2021-04-01   \n",
       "3    -0.015667  137768230242415411   NEUTRAL 2021-04-01   \n",
       "4    -0.028315  137768230247034061   NEUTRAL 2021-04-01   \n",
       "...        ...                 ...       ...        ...   \n",
       "3913  0.042621  137297169815745333   NEUTRAL 2021-03-19   \n",
       "3914 -0.251606  137297169850553549   NEUTRAL 2021-03-19   \n",
       "3915 -0.025509  137297169913047040   NEUTRAL 2021-03-19   \n",
       "3916 -0.025509  137297170554358170   NEUTRAL 2021-03-19   \n",
       "3917  0.063422  137297170690673869   NEUTRAL 2021-03-19   \n",
       "\n",
       "                                             tweet_text  \n",
       "0     ltimos 130 dasCasos covid sin sancin ni comuni...  \n",
       "1     Colombia reporta 8646 nuevos casos de Covid19 ...  \n",
       "2     El 591 de la poblacin espaola ha recibido la v...  \n",
       "3     LTIMAHORA Cardenal Baltazar Porras anunci este...  \n",
       "4     Magallanes hoy reporta 28 casos nuevos de Covi...  \n",
       "...                                                 ...  \n",
       "3913  Laboratorio para covid19 en Maiqueta se cre en...  \n",
       "3914  Ms precaucin En el reporte de las ltimas 24 ho...  \n",
       "3915    Estos es lo que ha revelado un reciente estudio  \n",
       "3916    Estos es lo que ha revelado un reciente estudio  \n",
       "3917  El esperado informe sali ayer Lo comento dirig...  \n",
       "\n",
       "[3918 rows x 5 columns]"
      ]
     },
     "execution_count": 15,
     "metadata": {},
     "output_type": "execute_result"
    }
   ],
   "source": [
    "df_tweets"
   ]
  },
  {
   "cell_type": "code",
   "execution_count": 16,
   "metadata": {},
   "outputs": [
    {
     "name": "stdout",
     "output_type": "stream",
     "text": [
      "<class 'pandas.core.frame.DataFrame'>\n",
      "RangeIndex: 3918 entries, 0 to 3917\n",
      "Data columns (total 5 columns):\n",
      " #   Column      Non-Null Count  Dtype         \n",
      "---  ------      --------------  -----         \n",
      " 0   polarity    3918 non-null   float64       \n",
      " 1   tweet_id    3918 non-null   object        \n",
      " 2   sentiment   3918 non-null   object        \n",
      " 3   tweet_date  3918 non-null   datetime64[ns]\n",
      " 4   tweet_text  3918 non-null   object        \n",
      "dtypes: datetime64[ns](1), float64(1), object(3)\n",
      "memory usage: 153.2+ KB\n"
     ]
    }
   ],
   "source": [
    "df_tweets.info()"
   ]
  },
  {
   "cell_type": "markdown",
   "metadata": {},
   "source": [
    "Para esta tabla únicamente nos quedaremos con las columnas tweet_date y polarity"
   ]
  },
  {
   "cell_type": "code",
   "execution_count": 17,
   "metadata": {},
   "outputs": [],
   "source": [
    "df_tweets = df_tweets[['tweet_date', 'polarity']]"
   ]
  },
  {
   "cell_type": "code",
   "execution_count": 18,
   "metadata": {},
   "outputs": [
    {
     "data": {
      "text/html": [
       "<div>\n",
       "<style scoped>\n",
       "    .dataframe tbody tr th:only-of-type {\n",
       "        vertical-align: middle;\n",
       "    }\n",
       "\n",
       "    .dataframe tbody tr th {\n",
       "        vertical-align: top;\n",
       "    }\n",
       "\n",
       "    .dataframe thead th {\n",
       "        text-align: right;\n",
       "    }\n",
       "</style>\n",
       "<table border=\"1\" class=\"dataframe\">\n",
       "  <thead>\n",
       "    <tr style=\"text-align: right;\">\n",
       "      <th></th>\n",
       "      <th>tweet_date</th>\n",
       "      <th>polarity</th>\n",
       "    </tr>\n",
       "  </thead>\n",
       "  <tbody>\n",
       "    <tr>\n",
       "      <th>0</th>\n",
       "      <td>2021-04-01</td>\n",
       "      <td>-0.577922</td>\n",
       "    </tr>\n",
       "    <tr>\n",
       "      <th>1</th>\n",
       "      <td>2021-04-01</td>\n",
       "      <td>-0.345516</td>\n",
       "    </tr>\n",
       "    <tr>\n",
       "      <th>2</th>\n",
       "      <td>2021-04-01</td>\n",
       "      <td>0.024719</td>\n",
       "    </tr>\n",
       "    <tr>\n",
       "      <th>3</th>\n",
       "      <td>2021-04-01</td>\n",
       "      <td>-0.015667</td>\n",
       "    </tr>\n",
       "    <tr>\n",
       "      <th>4</th>\n",
       "      <td>2021-04-01</td>\n",
       "      <td>-0.028315</td>\n",
       "    </tr>\n",
       "    <tr>\n",
       "      <th>...</th>\n",
       "      <td>...</td>\n",
       "      <td>...</td>\n",
       "    </tr>\n",
       "    <tr>\n",
       "      <th>3913</th>\n",
       "      <td>2021-03-19</td>\n",
       "      <td>0.042621</td>\n",
       "    </tr>\n",
       "    <tr>\n",
       "      <th>3914</th>\n",
       "      <td>2021-03-19</td>\n",
       "      <td>-0.251606</td>\n",
       "    </tr>\n",
       "    <tr>\n",
       "      <th>3915</th>\n",
       "      <td>2021-03-19</td>\n",
       "      <td>-0.025509</td>\n",
       "    </tr>\n",
       "    <tr>\n",
       "      <th>3916</th>\n",
       "      <td>2021-03-19</td>\n",
       "      <td>-0.025509</td>\n",
       "    </tr>\n",
       "    <tr>\n",
       "      <th>3917</th>\n",
       "      <td>2021-03-19</td>\n",
       "      <td>0.063422</td>\n",
       "    </tr>\n",
       "  </tbody>\n",
       "</table>\n",
       "<p>3918 rows × 2 columns</p>\n",
       "</div>"
      ],
      "text/plain": [
       "     tweet_date  polarity\n",
       "0    2021-04-01 -0.577922\n",
       "1    2021-04-01 -0.345516\n",
       "2    2021-04-01  0.024719\n",
       "3    2021-04-01 -0.015667\n",
       "4    2021-04-01 -0.028315\n",
       "...         ...       ...\n",
       "3913 2021-03-19  0.042621\n",
       "3914 2021-03-19 -0.251606\n",
       "3915 2021-03-19 -0.025509\n",
       "3916 2021-03-19 -0.025509\n",
       "3917 2021-03-19  0.063422\n",
       "\n",
       "[3918 rows x 2 columns]"
      ]
     },
     "execution_count": 18,
     "metadata": {},
     "output_type": "execute_result"
    }
   ],
   "source": [
    "df_tweets"
   ]
  },
  {
   "cell_type": "markdown",
   "metadata": {},
   "source": [
    "Agrupamos por fecha y calculamos la polaridad media para cada día procesado"
   ]
  },
  {
   "cell_type": "code",
   "execution_count": 19,
   "metadata": {},
   "outputs": [],
   "source": [
    "df_tweets = df_tweets.groupby('tweet_date').mean()"
   ]
  },
  {
   "cell_type": "markdown",
   "metadata": {},
   "source": [
    "En esta gráfica cruzamos los datos obtenidos del apartado anterior con las polaridades obtenidas del servicio AWS"
   ]
  },
  {
   "cell_type": "code",
   "execution_count": 20,
   "metadata": {},
   "outputs": [
    {
     "data": {
      "image/png": "[encoded data removed]",
      "text/plain": [
       "<Figure size 1440x360 with 2 Axes>"
      ]
     },
     "metadata": {
      "needs_background": "light"
     },
     "output_type": "display_data"
    }
   ],
   "source": [
    "fig, ax1 = plt.subplots(figsize=(20,5))\n",
    "\n",
    "plt.xticks(rotation=90)\n",
    "\n",
    "#plt.plot(df_covid_grouped.index, df_covid_grouped['num_casos'], label = \"Casos\")\n",
    "ax1.plot(df_covid_grouped.index, df_covid_grouped['num_hosp'], label = \"Hospitalizados\")\n",
    "ax1.plot(df_covid_grouped.index, df_covid_grouped['num_uci'], label = \"Ingresos UCI\")\n",
    "ax1.plot(df_covid_grouped.index, df_covid_grouped['num_def'], label = \"Defunciones\")\n",
    "ax1.set_xlabel('Fecha')\n",
    "ax1.set_ylabel('Recuento')\n",
    "ax1.legend(loc=2)\n",
    "\n",
    "ax2 = ax1.twinx()\n",
    "color = 'tab:red'\n",
    "ax2.plot(df_tweets.index, df_tweets['polarity'], label = 'Polaridad', color=color, linestyle= '--')\n",
    "ax2.set_ylim([-1, 1])\n",
    "ax2.set_ylabel('Polaridad')\n",
    "ax2.legend(loc=1)\n",
    "\n",
    "plt.title('Datos COVID - Polaridad')\n",
    "plt.legend()\n",
    "\n",
    "plt.show()"
   ]
  },
  {
   "cell_type": "markdown",
   "metadata": {},
   "source": [
    "Realizamos un scan de la tabla `tweets_statistics` para descargar todos los datos de la tabla"
   ]
  },
  {
   "cell_type": "code",
   "execution_count": 21,
   "metadata": {},
   "outputs": [
    {
     "data": {
      "text/html": [
       "<div>\n",
       "<style scoped>\n",
       "    .dataframe tbody tr th:only-of-type {\n",
       "        vertical-align: middle;\n",
       "    }\n",
       "\n",
       "    .dataframe tbody tr th {\n",
       "        vertical-align: top;\n",
       "    }\n",
       "\n",
       "    .dataframe thead th {\n",
       "        text-align: right;\n",
       "    }\n",
       "</style>\n",
       "<table border=\"1\" class=\"dataframe\">\n",
       "  <thead>\n",
       "    <tr style=\"text-align: right;\">\n",
       "      <th></th>\n",
       "      <th>neutral</th>\n",
       "      <th>mixed</th>\n",
       "      <th>TweetDate</th>\n",
       "      <th>negative</th>\n",
       "      <th>positive</th>\n",
       "    </tr>\n",
       "  </thead>\n",
       "  <tbody>\n",
       "    <tr>\n",
       "      <th>0</th>\n",
       "      <td>55</td>\n",
       "      <td>17</td>\n",
       "      <td>01/04/2021</td>\n",
       "      <td>22</td>\n",
       "      <td>3</td>\n",
       "    </tr>\n",
       "    <tr>\n",
       "      <th>1</th>\n",
       "      <td>76</td>\n",
       "      <td>13</td>\n",
       "      <td>20/03/2021</td>\n",
       "      <td>7</td>\n",
       "      <td>4</td>\n",
       "    </tr>\n",
       "    <tr>\n",
       "      <th>2</th>\n",
       "      <td>98</td>\n",
       "      <td>37</td>\n",
       "      <td>05/04/2021</td>\n",
       "      <td>58</td>\n",
       "      <td>6</td>\n",
       "    </tr>\n",
       "    <tr>\n",
       "      <th>3</th>\n",
       "      <td>54</td>\n",
       "      <td>17</td>\n",
       "      <td>03/04/2021</td>\n",
       "      <td>26</td>\n",
       "      <td>2</td>\n",
       "    </tr>\n",
       "    <tr>\n",
       "      <th>4</th>\n",
       "      <td>71</td>\n",
       "      <td>10</td>\n",
       "      <td>25/03/2021</td>\n",
       "      <td>18</td>\n",
       "      <td>0</td>\n",
       "    </tr>\n",
       "  </tbody>\n",
       "</table>\n",
       "</div>"
      ],
      "text/plain": [
       "  neutral mixed   TweetDate negative positive\n",
       "0      55    17  01/04/2021       22        3\n",
       "1      76    13  20/03/2021        7        4\n",
       "2      98    37  05/04/2021       58        6\n",
       "3      54    17  03/04/2021       26        2\n",
       "4      71    10  25/03/2021       18        0"
      ]
     },
     "execution_count": 21,
     "metadata": {},
     "output_type": "execute_result"
    }
   ],
   "source": [
    "statistics = tweets_statistics_table.scan()\n",
    "df_statistics = pd.DataFrame(statistics['Items'])\n",
    "df_statistics.head()"
   ]
  },
  {
   "cell_type": "code",
   "execution_count": 22,
   "metadata": {},
   "outputs": [
    {
     "name": "stdout",
     "output_type": "stream",
     "text": [
      "<class 'pandas.core.frame.DataFrame'>\n",
      "RangeIndex: 60 entries, 0 to 59\n",
      "Data columns (total 5 columns):\n",
      " #   Column     Non-Null Count  Dtype \n",
      "---  ------     --------------  ----- \n",
      " 0   neutral    60 non-null     object\n",
      " 1   mixed      60 non-null     object\n",
      " 2   TweetDate  60 non-null     object\n",
      " 3   negative   60 non-null     object\n",
      " 4   positive   60 non-null     object\n",
      "dtypes: object(5)\n",
      "memory usage: 2.5+ KB\n"
     ]
    }
   ],
   "source": [
    "df_statistics.info()"
   ]
  },
  {
   "cell_type": "markdown",
   "metadata": {},
   "source": [
    "De igual forma que con la tabla `tweets`, transformamos las columnas numéricas para poder operar con ellas. La columna TweetDate la trasformamos en objeto Datetime."
   ]
  },
  {
   "cell_type": "code",
   "execution_count": 23,
   "metadata": {},
   "outputs": [],
   "source": [
    "df_statistics['neutral'] = df_statistics['neutral'].astype(int)\n",
    "df_statistics['mixed'] = df_statistics['mixed'].astype(int) \n",
    "df_statistics['positive'] = df_statistics['positive'].astype(int) \n",
    "df_statistics['negative'] = df_statistics['negative'].astype(int) \n",
    "\n",
    "df_statistics['TweetDate'] = pd.to_datetime(df_statistics['TweetDate'], format='%d/%m/%Y')"
   ]
  },
  {
   "cell_type": "code",
   "execution_count": 24,
   "metadata": {},
   "outputs": [],
   "source": [
    "df_statistics.sort_values('TweetDate', inplace=True)"
   ]
  },
  {
   "cell_type": "markdown",
   "metadata": {},
   "source": [
    "Creamos dos nuevas columnas con el ratio de tweets positivos y negativos con respecto al total de tweets para compararlos con la polaridad obtenida."
   ]
  },
  {
   "cell_type": "code",
   "execution_count": 25,
   "metadata": {},
   "outputs": [],
   "source": [
    "df_statistics['positiveRatio'] = df_statistics['positive'] / (df_statistics['positive'] + df_statistics['negative'] + df_statistics['mixed'] + df_statistics['neutral'])\n",
    "df_statistics['negativeRatio'] = df_statistics['negative'] / (df_statistics['positive'] + df_statistics['negative'] + df_statistics['mixed'] + df_statistics['neutral'])"
   ]
  },
  {
   "cell_type": "code",
   "execution_count": 26,
   "metadata": {},
   "outputs": [
    {
     "data": {
      "image/png": "[encoded data removed]",
      "text/plain": [
       "<Figure size 1440x360 with 2 Axes>"
      ]
     },
     "metadata": {
      "needs_background": "light"
     },
     "output_type": "display_data"
    }
   ],
   "source": [
    "fig, ax1 = plt.subplots(figsize=(20,5))\n",
    "\n",
    "plt.xticks(rotation=90)\n",
    "\n",
    "ax1.plot(df_statistics['TweetDate'], df_statistics['positiveRatio'], label = \"Positivos\")\n",
    "ax1.plot(df_statistics['TweetDate'], df_statistics['negativeRatio'], label = \"Negativos\")\n",
    "ax1.set_xlabel('Fecha')\n",
    "ax1.set_ylabel('Recuento')\n",
    "ax1.legend(loc=2)\n",
    "\n",
    "ax2 = ax1.twinx()\n",
    "color = 'tab:purple'\n",
    "ax2.plot(df_tweets.index, df_tweets['polarity'], label = 'Polaridad', color=color, linestyle= '-.')\n",
    "ax2.set_ylim([-1, 1])\n",
    "ax2.set_ylabel('Polaridad')\n",
    "ax2.legend(loc=1)\n",
    "\n",
    "plt.title('Datos COVID - Polaridad')\n",
    "plt.show()"
   ]
  },
  {
   "cell_type": "markdown",
   "metadata": {},
   "source": [
    "####  <font color=\"#00586D\">Conclusiones</font>"
   ]
  },
  {
   "cell_type": "markdown",
   "metadata": {},
   "source": [
    "Cruzando los datos descargados de la fuente citada junto con los datos de sentimiento y polaridad obtenidos de los servicios implementados en AWS, no se puede establecer a priori la correlación lógica esperada: A una mejora de la situación (disminución de contagios, hospitalizaciones y muertes), una progresión de la polaridad con tendencia a acercarse al valor 1. Esto puede deberse a la cantidad demasiado elevada de tweets clasificados como `neutros` o `mixtos`.\n",
    "\n",
    "Por otra parte, en la última gráfica vemos cómo la polaridad está por debajo de 0 en todo momento, lo cual es lógico dado el número de tweets negativos que siempre ha superado ampliamente el número de tweets positivos."
   ]
  }
 ],
 "metadata": {
  "kernelspec": {
   "display_name": "Python 3",
   "language": "python",
   "name": "python3"
  },
  "language_info": {
   "codemirror_mode": {
    "name": "ipython",
    "version": 3
   },
   "file_extension": ".py",
   "mimetype": "text/x-python",
   "name": "python",
   "nbconvert_exporter": "python",
   "pygments_lexer": "ipython3",
   "version": "3.7.3"
  }
 },
 "nbformat": 4,
 "nbformat_minor": 2
}
